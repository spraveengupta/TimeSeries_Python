{
 "cells": [
  {
   "cell_type": "code",
   "execution_count": null,
   "metadata": {
    "collapsed": true
   },
   "outputs": [],
   "source": []
  },
  {
   "cell_type": "code",
   "execution_count": 9,
   "metadata": {
    "collapsed": false
   },
   "outputs": [
    {
     "name": "stdout",
     "output_type": "stream",
     "text": [
      "Converting to date format\n",
      "Processing Date field..\n"
     ]
    }
   ],
   "source": [
    "import sys\n",
    "from math import sqrt\n",
    "import numpy as np\n",
    "import pandas as pd\n",
    "from sklearn.preprocessing import LabelEncoder, OneHotEncoder\n",
    "from sklearn.cross_validation import KFold\n",
    "from sklearn import ensemble\n",
    "from sklearn import linear_model as lm\n",
    "from sklearn.metrics import mean_squared_error as mse\n",
    "import xgboost as xgb\n",
    "\n",
    "def runXGB(train_X, train_y, test_X, test_y=None):\n",
    "    params = {}\n",
    "    params[\"objective\"] = \"reg:linear\"\n",
    "    params[\"eta\"] = 0.02\n",
    "    params[\"min_child_weight\"] = 8\n",
    "    params[\"subsample\"] = 0.9\n",
    "    params[\"colsample_bytree\"] = 0.8\n",
    "    params[\"silent\"] = 1\n",
    "    params[\"max_depth\"] = 8\n",
    "    params[\"seed\"] = 1\n",
    "    plst = list(params.items())\n",
    "    num_rounds = 500\n",
    "\n",
    "    xgtrain = xgb.DMatrix(train_X, label=train_y)\n",
    "    xgtest = xgb.DMatrix(test_X)\n",
    "    model = xgb.train(plst, xgtrain, num_rounds)\n",
    "    pred_test_y = model.predict(xgtest)\n",
    "    return pred_test_y\n",
    "\n",
    "def rmse(act_y, pred_y):\n",
    "    return np.sqrt(mse(act_y, pred_y))\n",
    "\n",
    "\n",
    "if __name__ == \"__main__\":\n",
    "    # Input data path #\n",
    "#     data_path = \"../Data/\"\n",
    "    train_file =  \"C:/Users/PraveenGupta/Downloads/Hackathon/05_28_Mini Hack/Train_KQyJ5eh.csv\"\n",
    "    test_file = \"C:/Users/PraveenGupta/Downloads/Hackathon/05_28_Mini Hack/Test_HmLwURQ.csv\"\n",
    "\n",
    "    # Reading the csv file into pandas dataframe #\n",
    "    train_df = pd.read_csv(train_file)\n",
    "    test_df = pd.read_csv(test_file)\n",
    "\n",
    "    print \"Converting to date format\"\n",
    "    train_df[\"Date\"] = (pd.to_datetime(train_df[\"Date\"], format=\"%d-%b-%y\"))\n",
    "    test_df[\"Date\"] = (pd.to_datetime(test_df[\"Date\"], format=\"%d-%b-%y\"))\n",
    "\n",
    "    # Getting the dv and id values #\n",
    "    train_y = train_df.Number_SKU_Sold\n",
    "    test_id = test_df.Date\n",
    "\n",
    "    print \"Processing Date field..\"\n",
    "    train_df[\"DayOfMonth\"] = train_df[\"Date\"].apply(lambda x: x.day)\n",
    "    test_df[\"DayOfMonth\"] = test_df[\"Date\"].apply(lambda x: x.day)\n",
    "    train_df[\"Hour\"] = train_df[\"Date\"].apply(lambda x: x.hour)\n",
    "    test_df[\"Hour\"] = test_df[\"Date\"].apply(lambda x: x.hour)\n",
    "    train_df[\"WeekDay\"] = train_df[\"Date\"].apply(lambda x: x.weekday())\n",
    "    test_df[\"WeekDay\"] = test_df[\"Date\"].apply(lambda x: x.weekday())\n",
    "    train_df[\"DayCount\"] = train_df[\"Date\"].apply(lambda x: x.toordinal())\n",
    "    test_df[\"DayCount\"] = test_df[\"Date\"].apply(lambda x: x.toordinal())\n",
    "\n",
    "    # Dropping the columns that are not needed #\t\n",
    "    train_df.drop([\"Date\"], axis=1, inplace=True)\n",
    "    test_df.drop([\"Date\"], axis=1, inplace=True)\n",
    "\n",
    "    # Running the xgb model #\n",
    "    preds = runXGB(np.array(train_df), train_y, np.array(test_df))\n",
    "    preds = preds.astype('int')\n",
    "\n",
    "    # Saving the predictions #\n",
    "    sample = pd.read_csv(\"C:/Users/PraveenGupta/Downloads/Hackathon/05_28_Mini Hack/Test_HmLwURQ.csv\")\n",
    "    sample[\"Count\"] = preds\n",
    "    sample.to_csv(\"C:/Users/PraveenGupta/Downloads/Hackathon/05_28_Mini Hack/sub_xgb.csv\", index=False)\n"
   ]
  },
  {
   "cell_type": "code",
   "execution_count": 14,
   "metadata": {
    "collapsed": false
   },
   "outputs": [
    {
     "ename": "ValueError",
     "evalue": "shapes (365,4) and (5,) not aligned: 4 (dim 1) != 5 (dim 0)",
     "output_type": "error",
     "traceback": [
      "\u001b[1;31m---------------------------------------------------------------------------\u001b[0m",
      "\u001b[1;31mValueError\u001b[0m                                Traceback (most recent call last)",
      "\u001b[1;32m<ipython-input-14-eedeaea65092>\u001b[0m in \u001b[0;36m<module>\u001b[1;34m()\u001b[0m\n\u001b[0;32m      1\u001b[0m \u001b[0mreg\u001b[0m \u001b[1;33m=\u001b[0m \u001b[0mlm\u001b[0m\u001b[1;33m.\u001b[0m\u001b[0mLinearRegression\u001b[0m\u001b[1;33m(\u001b[0m\u001b[1;33m)\u001b[0m\u001b[1;33m\u001b[0m\u001b[0m\n\u001b[0;32m      2\u001b[0m \u001b[0mreg\u001b[0m\u001b[1;33m.\u001b[0m\u001b[0mfit\u001b[0m\u001b[1;33m(\u001b[0m\u001b[0mnp\u001b[0m\u001b[1;33m.\u001b[0m\u001b[0marray\u001b[0m\u001b[1;33m(\u001b[0m\u001b[0mtrain_df\u001b[0m\u001b[1;33m)\u001b[0m\u001b[1;33m,\u001b[0m \u001b[0mtrain_y\u001b[0m\u001b[1;33m)\u001b[0m\u001b[1;33m\u001b[0m\u001b[0m\n\u001b[1;32m----> 3\u001b[1;33m \u001b[0mpreds\u001b[0m \u001b[1;33m=\u001b[0m \u001b[0mreg\u001b[0m\u001b[1;33m.\u001b[0m\u001b[0mpredict\u001b[0m\u001b[1;33m(\u001b[0m\u001b[0mnp\u001b[0m\u001b[1;33m.\u001b[0m\u001b[0marray\u001b[0m\u001b[1;33m(\u001b[0m\u001b[0mtest_df\u001b[0m\u001b[1;33m)\u001b[0m\u001b[1;33m)\u001b[0m\u001b[1;31m#.astype('int')\u001b[0m\u001b[1;33m\u001b[0m\u001b[0m\n\u001b[0m",
      "\u001b[1;32mc:\\Anaconda2\\lib\\site-packages\\sklearn\\linear_model\\base.pyc\u001b[0m in \u001b[0;36mpredict\u001b[1;34m(self, X)\u001b[0m\n\u001b[0;32m    198\u001b[0m             \u001b[0mReturns\u001b[0m \u001b[0mpredicted\u001b[0m \u001b[0mvalues\u001b[0m\u001b[1;33m.\u001b[0m\u001b[1;33m\u001b[0m\u001b[0m\n\u001b[0;32m    199\u001b[0m         \"\"\"\n\u001b[1;32m--> 200\u001b[1;33m         \u001b[1;32mreturn\u001b[0m \u001b[0mself\u001b[0m\u001b[1;33m.\u001b[0m\u001b[0m_decision_function\u001b[0m\u001b[1;33m(\u001b[0m\u001b[0mX\u001b[0m\u001b[1;33m)\u001b[0m\u001b[1;33m\u001b[0m\u001b[0m\n\u001b[0m\u001b[0;32m    201\u001b[0m \u001b[1;33m\u001b[0m\u001b[0m\n\u001b[0;32m    202\u001b[0m     \u001b[0m_center_data\u001b[0m \u001b[1;33m=\u001b[0m \u001b[0mstaticmethod\u001b[0m\u001b[1;33m(\u001b[0m\u001b[0mcenter_data\u001b[0m\u001b[1;33m)\u001b[0m\u001b[1;33m\u001b[0m\u001b[0m\n",
      "\u001b[1;32mc:\\Anaconda2\\lib\\site-packages\\sklearn\\linear_model\\base.pyc\u001b[0m in \u001b[0;36m_decision_function\u001b[1;34m(self, X)\u001b[0m\n\u001b[0;32m    183\u001b[0m         \u001b[0mX\u001b[0m \u001b[1;33m=\u001b[0m \u001b[0mcheck_array\u001b[0m\u001b[1;33m(\u001b[0m\u001b[0mX\u001b[0m\u001b[1;33m,\u001b[0m \u001b[0maccept_sparse\u001b[0m\u001b[1;33m=\u001b[0m\u001b[1;33m[\u001b[0m\u001b[1;34m'csr'\u001b[0m\u001b[1;33m,\u001b[0m \u001b[1;34m'csc'\u001b[0m\u001b[1;33m,\u001b[0m \u001b[1;34m'coo'\u001b[0m\u001b[1;33m]\u001b[0m\u001b[1;33m)\u001b[0m\u001b[1;33m\u001b[0m\u001b[0m\n\u001b[0;32m    184\u001b[0m         return safe_sparse_dot(X, self.coef_.T,\n\u001b[1;32m--> 185\u001b[1;33m                                dense_output=True) + self.intercept_\n\u001b[0m\u001b[0;32m    186\u001b[0m \u001b[1;33m\u001b[0m\u001b[0m\n\u001b[0;32m    187\u001b[0m     \u001b[1;32mdef\u001b[0m \u001b[0mpredict\u001b[0m\u001b[1;33m(\u001b[0m\u001b[0mself\u001b[0m\u001b[1;33m,\u001b[0m \u001b[0mX\u001b[0m\u001b[1;33m)\u001b[0m\u001b[1;33m:\u001b[0m\u001b[1;33m\u001b[0m\u001b[0m\n",
      "\u001b[1;32mc:\\Anaconda2\\lib\\site-packages\\sklearn\\utils\\extmath.pyc\u001b[0m in \u001b[0;36msafe_sparse_dot\u001b[1;34m(a, b, dense_output)\u001b[0m\n\u001b[0;32m    182\u001b[0m         \u001b[1;32mreturn\u001b[0m \u001b[0mret\u001b[0m\u001b[1;33m\u001b[0m\u001b[0m\n\u001b[0;32m    183\u001b[0m     \u001b[1;32melse\u001b[0m\u001b[1;33m:\u001b[0m\u001b[1;33m\u001b[0m\u001b[0m\n\u001b[1;32m--> 184\u001b[1;33m         \u001b[1;32mreturn\u001b[0m \u001b[0mfast_dot\u001b[0m\u001b[1;33m(\u001b[0m\u001b[0ma\u001b[0m\u001b[1;33m,\u001b[0m \u001b[0mb\u001b[0m\u001b[1;33m)\u001b[0m\u001b[1;33m\u001b[0m\u001b[0m\n\u001b[0m\u001b[0;32m    185\u001b[0m \u001b[1;33m\u001b[0m\u001b[0m\n\u001b[0;32m    186\u001b[0m \u001b[1;33m\u001b[0m\u001b[0m\n",
      "\u001b[1;31mValueError\u001b[0m: shapes (365,4) and (5,) not aligned: 4 (dim 1) != 5 (dim 0)"
     ]
    }
   ],
   "source": [
    "reg = lm.LinearRegression()\n",
    "reg.fit(np.array(train_df), train_y)\n",
    "preds = reg.predict(np.array(test_df))#.astype('int')"
   ]
  }
 ],
 "metadata": {
  "kernelspec": {
   "display_name": "Python 2",
   "language": "python",
   "name": "python2"
  },
  "language_info": {
   "codemirror_mode": {
    "name": "ipython",
    "version": 2
   },
   "file_extension": ".py",
   "mimetype": "text/x-python",
   "name": "python",
   "nbconvert_exporter": "python",
   "pygments_lexer": "ipython2",
   "version": "2.7.11"
  }
 },
 "nbformat": 4,
 "nbformat_minor": 0
}
